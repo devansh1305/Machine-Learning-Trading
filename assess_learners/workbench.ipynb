{
 "cells": [
  {
   "cell_type": "code",
   "execution_count": 25,
   "metadata": {},
   "outputs": [
    {
     "name": "stdout",
     "output_type": "stream",
     "text": [
      "hello\n"
     ]
    }
   ],
   "source": [
    "import sys\n",
    "import time\n",
    "import matplotlib.pyplot as plt\n",
    "import InsaneLearner as il\n",
    "import BagLearner as bl\n",
    "import RTLearner as rtl\n",
    "import DTLearner as dtl\n",
    "import LinRegLearner as lrl\n",
    "import numpy as np\n",
    "import math\n",
    "import testlearner\n",
    "print(\"hello\")\n"
   ]
  },
  {
   "cell_type": "code",
   "execution_count": 30,
   "metadata": {},
   "outputs": [
    {
     "data": {
      "text/plain": [
       "<Figure size 432x288 with 0 Axes>"
      ]
     },
     "metadata": {},
     "output_type": "display_data"
    }
   ],
   "source": [
    "choose = 2\n",
    "data_shuffle = True\n",
    "np.random.seed(903262441)\n",
    "# if len(sys.argv) != 2:\n",
    "#     print(\"Usage: python testlearner.py <filename>\")\n",
    "#     sys.exit(1)\n",
    "lol = \"Data/Istanbul.csv\"\n",
    "inf = open(lol)\n",
    "data = np.array(\n",
    "    [list(map(str, s.strip().split(\",\")[1:]))\n",
    "     for s in inf.readlines()[1:]]\n",
    ")\n",
    "inf.close()\n",
    "if lol == \"Data/Istanbul.csv\":\n",
    "    data = data[1:, 1:]\n",
    "data = data.astype('float')\n",
    "if data_shuffle:\n",
    "    np.random.shuffle(data)\n",
    "# compute how much of the data is training and testing\n",
    "train_rows = int(0.6 * data.shape[0])\n",
    "test_rows = data.shape[0] - train_rows\n",
    "# separate out training and testing data\n",
    "train_x = data[:train_rows, 0:-1]\n",
    "train_y = data[:train_rows, -1]\n",
    "test_x = data[train_rows:, 0:-1]\n",
    "test_y = data[train_rows:, -1]\n",
    "# print(f\"{test_x.shape}\")\n",
    "# print(f\"{test_y.shape}\")\n",
    "# Istanbul.csv\n",
    "testlearner.experiment1(train_x, train_y, test_x, test_y)\n",
    "testlearner.experiment2(train_x, train_y, test_x, test_y)\n",
    "testlearner.experiment32(train_x, train_y, test_x, test_y)\n",
    "testlearner.experiment33(train_x, train_y, test_x, test_y)\n",
    "inf = open(\"Data/winequality-white.csv\")\n",
    "data = np.array(\n",
    "    [list(map(str, s.strip().split(\",\")[1:]))\n",
    "     for s in inf.readlines()[1:]]\n",
    ")\n",
    "inf.close()\n",
    "data = data.astype('float')\n",
    "if data_shuffle:\n",
    "    np.random.shuffle(data)\n",
    "train_rows = int(0.6 * data.shape[0])\n",
    "test_rows = data.shape[0] - train_rows\n",
    "train_x = data[:train_rows, 0:-1]\n",
    "train_y = data[:train_rows, -1]\n",
    "# winequality-white.csv\n",
    "# testlearner.experiment31(train_x, train_y)\n",
    "# testlearner.experiment34(train_x, train_y)"
   ]
  }
 ],
 "metadata": {
  "kernelspec": {
   "display_name": "ml4t",
   "language": "python",
   "name": "python3"
  },
  "language_info": {
   "codemirror_mode": {
    "name": "ipython",
    "version": 3
   },
   "file_extension": ".py",
   "mimetype": "text/x-python",
   "name": "python",
   "nbconvert_exporter": "python",
   "pygments_lexer": "ipython3",
   "version": "3.6.15"
  },
  "orig_nbformat": 4
 },
 "nbformat": 4,
 "nbformat_minor": 2
}
