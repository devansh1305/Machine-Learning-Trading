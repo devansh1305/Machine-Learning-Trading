{
 "cells": [
  {
   "cell_type": "code",
   "execution_count": 1,
   "metadata": {},
   "outputs": [],
   "source": [
    "import sys\n",
    "sys.path.append(\"../\")\n",
    "from scipy.optimize import minimize"
   ]
  },
  {
   "cell_type": "code",
   "execution_count": 2,
   "metadata": {},
   "outputs": [],
   "source": [
    "import datetime as dt\n",
    "import numpy as np\n",
    "import matplotlib.pyplot as plt\n",
    "import pandas as pd\n",
    "from util import get_data, plot_data"
   ]
  },
  {
   "cell_type": "code",
   "execution_count": 3,
   "metadata": {},
   "outputs": [
    {
     "name": "stdout",
     "output_type": "stream",
     "text": [
      "['/home/devansh/Desktop/CS7646-ML4T/ml4t_official/optimize_something', '/home/devansh/anaconda3/envs/ml4t/lib/python36.zip', '/home/devansh/anaconda3/envs/ml4t/lib/python3.6', '/home/devansh/anaconda3/envs/ml4t/lib/python3.6/lib-dynload', '', '/home/devansh/anaconda3/envs/ml4t/lib/python3.6/site-packages', '/home/devansh/anaconda3/envs/ml4t/lib/python3.6/site-packages/IPython/extensions', '/home/devansh/.ipython', '../']\n"
     ]
    }
   ],
   "source": [
    "print(sys.path)"
   ]
  },
  {
   "cell_type": "code",
   "execution_count": 4,
   "metadata": {},
   "outputs": [],
   "source": [
    "from optimization import optimize_portfolio"
   ]
  },
  {
   "cell_type": "code",
   "execution_count": 5,
   "metadata": {},
   "outputs": [],
   "source": [
    "start_date = dt.datetime(2009, 1, 1)\n",
    "end_date = dt.datetime(2010, 1, 1)\n",
    "symbols = [\"GOOG\", \"AAPL\", \"GLD\", \"XOM\", \"IBM\"]\n",
    "dates = pd.date_range(start_date, end_date)"
   ]
  },
  {
   "cell_type": "code",
   "execution_count": 17,
   "metadata": {},
   "outputs": [
    {
     "name": "stdout",
     "output_type": "stream",
     "text": [
      "SPY     0.000199\n",
      "GOOG    0.000209\n",
      "AAPL    0.000221\n",
      "GLD     0.000028\n",
      "XOM     0.000160\n",
      "IBM     0.000172\n",
      "dtype: float64\n",
      "             SPY  GOOG  AAPL   GLD   XOM   IBM\n",
      "2009-01-02  True  True  True  True  True  True\n",
      "2009-01-05  True  True  True  True  True  True\n",
      "2009-01-06  True  True  True  True  True  True\n",
      "2009-01-07  True  True  True  True  True  True\n",
      "2009-01-08  True  True  True  True  True  True\n",
      "2009-01-09  True  True  True  True  True  True\n",
      "2009-01-12  True  True  True  True  True  True\n",
      "2009-01-13  True  True  True  True  True  True\n",
      "2009-01-14  True  True  True  True  True  True\n",
      "2009-01-15  True  True  True  True  True  True\n",
      "2009-01-16  True  True  True  True  True  True\n",
      "2009-01-20  True  True  True  True  True  True\n",
      "2009-01-21  True  True  True  True  True  True\n",
      "2009-01-22  True  True  True  True  True  True\n",
      "2009-01-23  True  True  True  True  True  True\n",
      "2009-01-26  True  True  True  True  True  True\n",
      "2009-01-27  True  True  True  True  True  True\n",
      "2009-01-28  True  True  True  True  True  True\n",
      "2009-01-29  True  True  True  True  True  True\n",
      "2009-01-30  True  True  True  True  True  True\n",
      "2009-02-02  True  True  True  True  True  True\n",
      "2009-02-03  True  True  True  True  True  True\n",
      "2009-02-04  True  True  True  True  True  True\n",
      "2009-02-05  True  True  True  True  True  True\n",
      "2009-02-06  True  True  True  True  True  True\n",
      "2009-02-09  True  True  True  True  True  True\n",
      "2009-02-10  True  True  True  True  True  True\n",
      "2009-02-11  True  True  True  True  True  True\n",
      "2009-02-12  True  True  True  True  True  True\n",
      "2009-02-13  True  True  True  True  True  True\n",
      "...          ...   ...   ...   ...   ...   ...\n",
      "2009-11-18  True  True  True  True  True  True\n",
      "2009-11-19  True  True  True  True  True  True\n",
      "2009-11-20  True  True  True  True  True  True\n",
      "2009-11-23  True  True  True  True  True  True\n",
      "2009-11-24  True  True  True  True  True  True\n",
      "2009-11-25  True  True  True  True  True  True\n",
      "2009-11-27  True  True  True  True  True  True\n",
      "2009-11-30  True  True  True  True  True  True\n",
      "2009-12-01  True  True  True  True  True  True\n",
      "2009-12-02  True  True  True  True  True  True\n",
      "2009-12-03  True  True  True  True  True  True\n",
      "2009-12-04  True  True  True  True  True  True\n",
      "2009-12-07  True  True  True  True  True  True\n",
      "2009-12-08  True  True  True  True  True  True\n",
      "2009-12-09  True  True  True  True  True  True\n",
      "2009-12-10  True  True  True  True  True  True\n",
      "2009-12-11  True  True  True  True  True  True\n",
      "2009-12-14  True  True  True  True  True  True\n",
      "2009-12-15  True  True  True  True  True  True\n",
      "2009-12-16  True  True  True  True  True  True\n",
      "2009-12-17  True  True  True  True  True  True\n",
      "2009-12-18  True  True  True  True  True  True\n",
      "2009-12-21  True  True  True  True  True  True\n",
      "2009-12-22  True  True  True  True  True  True\n",
      "2009-12-23  True  True  True  True  True  True\n",
      "2009-12-24  True  True  True  True  True  True\n",
      "2009-12-28  True  True  True  True  True  True\n",
      "2009-12-29  True  True  True  True  True  True\n",
      "2009-12-30  True  True  True  True  True  True\n",
      "2009-12-31  True  True  True  True  True  True\n",
      "\n",
      "[252 rows x 6 columns]\n"
     ]
    }
   ],
   "source": [
    "prices = get_data(symbols,dates)\n",
    "print(np.log(prices / prices.shift(1)).cov().mean())\n",
    "weights = np.ones(len(prices.columns)) / len(prices.columns)\n",
    "# print(weights)\n",
    "# print(tuple((0, 1) for _ in range(6)))\n",
    "# print(tuple([(0,1)]*6))\n",
    "# print(({'type': 'eq', 'fun': lambda x: np.sum(x) - 1}))\n",
    "# print(np.log(prices.div(prices.iloc[0])))\n",
    "# print(np.log(prices / prices.shift(1)))\n",
    "temp1 = prices/prices.iloc[0,:]\n",
    "temp2 = prices.div(prices.iloc[0])\n",
    "print(temp1==temp2)"
   ]
  },
  {
   "cell_type": "code",
   "execution_count": 7,
   "metadata": {},
   "outputs": [],
   "source": [
    "def sharpe_ratio(weights, log_returns):\n",
    "    # Calculate the portfolio return\n",
    "    portfolio_return = np.sum(log_returns.mean() * weights)\n",
    "    # Calculate the portfolio standard deviation\n",
    "    portfolio_std_dev = np.sqrt(\n",
    "        np.dot(weights.T, np.dot(log_returns.cov(), weights)))\n",
    "    # Calculate the Sharpe ratio\n",
    "    sharpe_ratio = (portfolio_return - 0) / portfolio_std_dev\n",
    "\n",
    "    return sharpe_ratio"
   ]
  },
  {
   "cell_type": "code",
   "execution_count": 8,
   "metadata": {},
   "outputs": [],
   "source": [
    "def allocate_portfolio(dataframe):\n",
    "    # Calculate the log returns of the stocks\n",
    "    log_returns = np.log(dataframe / dataframe.shift(1))\n",
    "\n",
    "    # Number of assets in the portfolio\n",
    "    num_assets = len(dataframe.columns)\n",
    "\n",
    "    # Initialize the weights vector\n",
    "    weights = np.ones(num_assets) / num_assets\n",
    "\n",
    "    # Define the constraints for the optimization\n",
    "    constraints = ({'type': 'eq', 'fun': lambda x: np.sum(x) - 1})\n",
    "\n",
    "    # Define the bounds for the optimization (weights between 0 and 1)\n",
    "    bounds = tuple((0, 1) for _ in range(num_assets))\n",
    "\n",
    "    # Perform the optimization\n",
    "    result = minimize(lambda x: -sharpe_ratio(x,log_returns), weights, method='SLSQP', bounds=bounds, constraints=constraints)\n",
    "\n",
    "    # Get the optimized weights\n",
    "    optimized_weights = result.x\n",
    "\n",
    "    return optimized_weights\n",
    "\n",
    "# Example usage\n",
    "# Assuming you have a dataframe 'stocks_df' containing the stock prices\n",
    "# where each column represents a stock and each row represents a date\n",
    "\n",
    "# Allocate the portfolio\n",
    "weights = allocate_portfolio(prices)"
   ]
  },
  {
   "cell_type": "code",
   "execution_count": 9,
   "metadata": {},
   "outputs": [
    {
     "name": "stdout",
     "output_type": "stream",
     "text": [
      "[0.00000000e+00 1.67199111e-01 4.52809555e-01 3.79991334e-01\n",
      " 7.92958284e-17 1.76015004e-17]\n"
     ]
    }
   ],
   "source": [
    "print(weights)"
   ]
  },
  {
   "cell_type": "code",
   "execution_count": null,
   "metadata": {},
   "outputs": [],
   "source": []
  }
 ],
 "metadata": {
  "kernelspec": {
   "display_name": "Python 3",
   "language": "python",
   "name": "python3"
  },
  "language_info": {
   "codemirror_mode": {
    "name": "ipython",
    "version": 3
   },
   "file_extension": ".py",
   "mimetype": "text/x-python",
   "name": "python",
   "nbconvert_exporter": "python",
   "pygments_lexer": "ipython3",
   "version": "3.6.15"
  },
  "orig_nbformat": 4
 },
 "nbformat": 4,
 "nbformat_minor": 2
}
