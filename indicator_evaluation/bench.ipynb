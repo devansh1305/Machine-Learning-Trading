{
 "cells": [
  {
   "cell_type": "code",
   "execution_count": 7,
   "metadata": {},
   "outputs": [],
   "source": [
    "import sys  \n",
    "sys.path.insert(0, '/home/devansh/Desktop/CS7646-ML4T/ml4t_official/')\n",
    "from util import get_data, plot_data\n",
    "import datetime as dt\n",
    "import pandas as pd\n",
    "from marketsimcode import compute_portvals\n",
    "import matplotlib.pyplot as plt"
   ]
  },
  {
   "cell_type": "code",
   "execution_count": 8,
   "metadata": {},
   "outputs": [],
   "source": [
    "sv = 100000\n",
    "sd = dt.datetime(2008, 1, 1)\n",
    "# ed = dt.datetime(2008, 1, 15)\n",
    "ed = dt.datetime(2009, 12, 31)"
   ]
  },
  {
   "cell_type": "code",
   "execution_count": 12,
   "metadata": {},
   "outputs": [],
   "source": [
    "symbol = 'JPM'\n",
    "df = get_data(['JPM'], pd.date_range(sd, ed))"
   ]
  },
  {
   "cell_type": "code",
   "execution_count": 22,
   "metadata": {},
   "outputs": [
    {
     "name": "stdout",
     "output_type": "stream",
     "text": [
      "             JPM\n",
      "2008-01-02 -1000\n",
      "2008-01-03     0\n",
      "2008-01-04  2000\n",
      "2008-01-07 -2000\n",
      "2008-01-08  2000\n",
      "2008-01-09     0\n",
      "2008-01-10 -2000\n",
      "2008-01-11  2000\n",
      "2008-01-14 -2000\n",
      "2008-01-15  2000\n",
      "2008-01-16 -2000\n",
      "2008-01-17     0\n",
      "2008-01-18  2000\n",
      "2008-01-22     0\n",
      "2008-01-23 -2000\n",
      "2008-01-24     0\n",
      "2008-01-25  2000\n",
      "2008-01-28     0\n",
      "2008-01-29 -2000\n",
      "2008-01-30  2000\n",
      "2008-01-31     0\n",
      "2008-02-01 -2000\n",
      "2008-02-04     0\n",
      "2008-02-05     0\n",
      "2008-02-06  2000\n",
      "2008-02-07 -2000\n",
      "2008-02-08     0\n",
      "2008-02-11     0\n",
      "2008-02-12  2000\n",
      "2008-02-13 -2000\n",
      "...          ...\n",
      "2009-11-18 -2000\n",
      "2009-11-19     0\n",
      "2009-11-20  2000\n",
      "2009-11-23 -2000\n",
      "2009-11-24     0\n",
      "2009-11-25     0\n",
      "2009-11-27  2000\n",
      "2009-11-30 -2000\n",
      "2009-12-01     0\n",
      "2009-12-02     0\n",
      "2009-12-03  2000\n",
      "2009-12-04 -2000\n",
      "2009-12-07     0\n",
      "2009-12-08     0\n",
      "2009-12-09  2000\n",
      "2009-12-10 -2000\n",
      "2009-12-11  2000\n",
      "2009-12-14 -2000\n",
      "2009-12-15  2000\n",
      "2009-12-16 -2000\n",
      "2009-12-17  2000\n",
      "2009-12-18     0\n",
      "2009-12-21     0\n",
      "2009-12-22 -2000\n",
      "2009-12-23  2000\n",
      "2009-12-24 -2000\n",
      "2009-12-28     0\n",
      "2009-12-29  2000\n",
      "2009-12-30     0\n",
      "2009-12-31     0\n",
      "\n",
      "[505 rows x 1 columns]\n"
     ]
    }
   ],
   "source": [
    "price_df = df[[symbol]].ffill().bfill()\n",
    "df_trades = df[['SPY']]\n",
    "# print(df_trades)\n",
    "df_trades = df_trades.rename(\n",
    "            columns={'SPY': symbol}).astype({symbol: 'int32'})\n",
    "# print(df_trades)\n",
    "df_trades[:] = 0\n",
    "# print(df_trades)\n",
    "dates = df_trades.index\n",
    "# print(dates)\n",
    "current_position = 0\n",
    "# making trades\n",
    "# for i in range(len(dates) - 1):\n",
    "#     if price_df.loc[dates[i+1]].loc[symbol] > price_df.loc[dates[i]].loc[symbol]:\n",
    "#         action = 1000 - current_position\n",
    "#     else:\n",
    "#         action = -1000 - current_position\n",
    "#     df_trades.loc[dates[i]].loc[symbol] = action\n",
    "#     current_position += action\n",
    "for i in range(len(dates) - 1):\n",
    "    action = 1000 - current_position if(price_df.loc[dates[i+1]].loc[symbol] > price_df.loc[dates[i]].loc[symbol]) else -1000 - current_position\n",
    "    df_trades.loc[dates[i]].loc[symbol] = action\n",
    "    current_position += action\n",
    "print(df_trades)"
   ]
  },
  {
   "cell_type": "code",
   "execution_count": null,
   "metadata": {},
   "outputs": [],
   "source": []
  }
 ],
 "metadata": {
  "kernelspec": {
   "display_name": "ml4t",
   "language": "python",
   "name": "python3"
  },
  "language_info": {
   "codemirror_mode": {
    "name": "ipython",
    "version": 3
   },
   "file_extension": ".py",
   "mimetype": "text/x-python",
   "name": "python",
   "nbconvert_exporter": "python",
   "pygments_lexer": "ipython3",
   "version": "3.6.15"
  },
  "orig_nbformat": 4
 },
 "nbformat": 4,
 "nbformat_minor": 2
}
